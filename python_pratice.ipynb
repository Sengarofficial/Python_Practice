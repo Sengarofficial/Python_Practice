{
 "cells": [
  {
   "cell_type": "code",
   "execution_count": 1,
   "metadata": {},
   "outputs": [
    {
     "name": "stdout",
     "output_type": "stream",
     "text": [
      "Hello world\n"
     ]
    }
   ],
   "source": [
    "print(\"Hello world\")"
   ]
  },
  {
   "cell_type": "code",
   "execution_count": 5,
   "metadata": {},
   "outputs": [
    {
     "name": "stdout",
     "output_type": "stream",
     "text": [
      "sum= 20\n"
     ]
    }
   ],
   "source": [
    "\n",
    "a = b = 10;\n",
    "print('sum=', a + b);\n"
   ]
  },
  {
   "cell_type": "code",
   "execution_count": 6,
   "metadata": {},
   "outputs": [
    {
     "data": {
      "text/plain": [
       "15"
      ]
     },
     "execution_count": 6,
     "metadata": {},
     "output_type": "execute_result"
    }
   ],
   "source": [
    "x = 15.56\n",
    "int(x)"
   ]
  },
  {
   "cell_type": "code",
   "execution_count": 7,
   "metadata": {},
   "outputs": [
    {
     "data": {
      "text/plain": [
       "15.0"
      ]
     },
     "execution_count": 7,
     "metadata": {},
     "output_type": "execute_result"
    }
   ],
   "source": [
    "num = 15\n",
    "float(num)"
   ]
  },
  {
   "cell_type": "code",
   "execution_count": 8,
   "metadata": {},
   "outputs": [
    {
     "data": {
      "text/plain": [
       "(10+0j)"
      ]
     },
     "execution_count": 8,
     "metadata": {},
     "output_type": "execute_result"
    }
   ],
   "source": [
    "n = 10\n",
    "complex(n)\n"
   ]
  },
  {
   "cell_type": "code",
   "execution_count": 10,
   "metadata": {},
   "outputs": [
    {
     "name": "stdout",
     "output_type": "stream",
     "text": [
      "sum= (30+5j)\n"
     ]
    }
   ],
   "source": [
    "x = 10 + 2j\n",
    "y = 20 + 3j\n",
    "z = x + y \n",
    "print('sum=', z)\n"
   ]
  },
  {
   "cell_type": "code",
   "execution_count": 11,
   "metadata": {},
   "outputs": [
    {
     "data": {
      "text/plain": [
       "(10-5j)"
      ]
     },
     "execution_count": 11,
     "metadata": {},
     "output_type": "execute_result"
    }
   ],
   "source": [
    "a = 10\n",
    "b = -5\n",
    "complex(a, b)"
   ]
  },
  {
   "cell_type": "code",
   "execution_count": 12,
   "metadata": {},
   "outputs": [
    {
     "name": "stdout",
     "output_type": "stream",
     "text": [
      "octal 17 =  15\n",
      "binary 1110010= 114\n",
      "hexadecimal 1c2= 450\n"
     ]
    }
   ],
   "source": [
    "#program to convert numbers from octal, binary and hexadecimal.program 1  \n",
    "n1 = 0o17\n",
    "n2 = 0b1110010\n",
    "n3 = 0x1c2\n",
    "n = int(n1)\n",
    "print('octal 17 = ', n)\n",
    "n = int(n2)\n",
    "print('binary 1110010=', n)\n",
    "n = int(n3)\n",
    "print('hexadecimal 1c2=', n)\n"
   ]
  },
  {
   "cell_type": "code",
   "execution_count": 13,
   "metadata": {},
   "outputs": [
    {
     "name": "stdout",
     "output_type": "stream",
     "text": [
      "450\n"
     ]
    }
   ],
   "source": [
    "#There is a function in the form of int(string, base) that is useful to convert a string into a decimal integer.program 2 \n",
    "str = \"1c2\" #string str contains hexadecimal number.\n",
    "n = int(str, 16) #hence base is 16 and convert str into int.\n",
    "print(n)\n"
   ]
  },
  {
   "cell_type": "code",
   "execution_count": 2,
   "metadata": {},
   "outputs": [
    {
     "name": "stdout",
     "output_type": "stream",
     "text": [
      "octal 17 is: 15\n",
      "binary 1110010 is: 114\n",
      "hexadecimal 1c2 is: 16\n"
     ]
    }
   ],
   "source": [
    "#we are going to rewrite program 1 using int(string, base) function to convert numbers from different number systems into decimal number system.\n",
    "#python program to convert into decimal number system.\n",
    "s1 = '17'\n",
    "s2 = '1110010'\n",
    "s3 = '1c2'\n",
    "\n",
    "n = int(s1, 8)\n",
    "print('octal 17 is:', n )\n",
    "n = int(s2, 2)\n",
    "print('binary 1110010 is:', n)\n",
    "n = int(s3, 16)\n",
    "print('hexadecimal 1c2 is:', 16)\n"
   ]
  },
  {
   "cell_type": "code",
   "execution_count": 7,
   "metadata": {},
   "outputs": [
    {
     "name": "stdout",
     "output_type": "stream",
     "text": [
      "binary value is: 0b1010\n",
      "octadecimal value is: 0o12\n",
      "hexadecimal value is: 0xa\n"
     ]
    }
   ],
   "source": [
    "#we can also use bin(), hex(),oct() functions for converting numbers to binary,octadecimal and hexadecimal functions.let's see\n",
    "a = 10\n",
    "b = bin(a)\n",
    "print('binary value is:', b) #displays binary value\n",
    "\n",
    "b = oct(a)\n",
    "print('octadecimal value is:', b) #displays oct value\n",
    "\n",
    "b = hex(a) \n",
    "print('hexadecimal value is:', b) #displays hexadecimal value"
   ]
  },
  {
   "cell_type": "code",
   "execution_count": 8,
   "metadata": {},
   "outputs": [
    {
     "name": "stdout",
     "output_type": "stream",
     "text": [
      "Hello\n"
     ]
    }
   ],
   "source": [
    "#bool datatype - two boolean values that is true as 1 and false as 0. balank string like \"\" is also represented as false.let's see\n",
    "a = 20\n",
    "b = 30\n",
    "if(a<b): print('Hello') #displays hello"
   ]
  },
  {
   "cell_type": "code",
   "execution_count": 9,
   "metadata": {},
   "outputs": [
    {
     "name": "stdout",
     "output_type": "stream",
     "text": [
      "True\n",
      "False\n"
     ]
    }
   ],
   "source": [
    "#In the previous code, the condition a<b which is written after if - is evaluated to true and hence it will execute print('Hello')\n",
    "a = 10>5 #here 'a' is treated as bool type variable\n",
    "print(a) #displays True\n",
    "\n",
    "a = 5>10\n",
    "print(a) #displays false\n",
    "\n"
   ]
  },
  {
   "cell_type": "code",
   "execution_count": 10,
   "metadata": {},
   "outputs": [
    {
     "name": "stdout",
     "output_type": "stream",
     "text": [
      "welcome\n",
      "this is a book on python which dicusses all the topics of core python in a very lucid manner\n",
      "this is a book on python which discusses all the topics of core python in a very lucid manner\n"
     ]
    }
   ],
   "source": [
    "#Sequences represents a group of elements or items. for example, a group of integer numbers will form a sequence.\n",
    "#str , bytes , bytearray , list , tuple , range\n",
    "#str Datatype -> str represents string datatype. a string is represented by a group characters.strings are enclosed in single quotes or double quotes.\n",
    "str = 'welcome' \n",
    "str1 = \"\"\"this is a book on python which dicusses all the topics of core python in a very lucid manner\"\"\"\n",
    "str2 = \"\"\"this is a book on python which discusses all the topics of core python in a very lucid manner\"\"\"\n",
    "\n",
    "print(str)\n",
    "print(str1)\n",
    "print(str2)\n"
   ]
  },
  {
   "cell_type": "code",
   "execution_count": 11,
   "metadata": {},
   "outputs": [
    {
     "name": "stdout",
     "output_type": "stream",
     "text": [
      "10\n"
     ]
    }
   ],
   "source": [
    "#Bytes Datatype represents a group of byte numbers just like an array does. A byte number is any positive integer from 0 to 255(inclusive)\n",
    "#bytes array can store numbers in the range from 0 to 255 and it cannot even store negative numbers.\n",
    "\n",
    "elements = [10, 20, 0, 40, 15] #this is a list of byte numbers\n",
    "x = bytes(elements) #convert the list into bytes array\n",
    "print(x[0]) #display 0th element, i.e 10\n",
    "#we cannot modify or edit any element in the bytes type array. for example , x[0] = 55 gives an error. here we are replacing 0th element i.e 10 by 55 which is not allowed.\n"
   ]
  },
  {
   "cell_type": "code",
   "execution_count": 12,
   "metadata": {},
   "outputs": [
    {
     "name": "stdout",
     "output_type": "stream",
     "text": [
      "10\n",
      "20\n",
      "30\n",
      "40\n",
      "50\n",
      "60\n"
     ]
    }
   ],
   "source": [
    "#python program to create a byte type array , read and display the elements of the array.\n",
    "#create a list of byte numbers.\n",
    "elements = [10,20,30,40,50,60]\n",
    "#convert list into bytes.\n",
    "x = bytes(elements)\n",
    "#retrieve elements from x using for loop and display.\n",
    "for i in x: print(i)\n",
    "    \n"
   ]
  },
  {
   "cell_type": "code",
   "execution_count": 22,
   "metadata": {},
   "outputs": [
    {
     "name": "stdout",
     "output_type": "stream",
     "text": [
      "10\n",
      "88\n",
      "98\n",
      "30\n",
      "40\n",
      "50\n",
      "60\n"
     ]
    }
   ],
   "source": [
    "#bytearray Datatype -> similar to byte array except modification can be possible in bytearray.\n",
    "#create a list first\n",
    "elements = [10,20,30,40,50,60]\n",
    "#convert list into bytearray first\n",
    "x = bytearray(elements)\n",
    "print(x[0])\n",
    "x[0] = 88 #replacing the 0th element.\n",
    "x[1] = 98 #same replacing the 1st element.\n",
    "for i in x: print(i)\n",
    "     \n",
    "  \n",
    "\n",
    "\n",
    "    "
   ]
  },
  {
   "cell_type": "markdown",
   "metadata": {},
   "source": [
    "## lists is similiar to array in c and java but difference is that lists can store different types of data and scalable in nature in runtime that is real time dynamically whereas arrays are fixed.\n",
    "#we just create a lists of different data types and will slicing within the lists.\n",
    "list = [20,30,'gaurav','divya',60,70,'olga','lena']\n",
    "print(list)\n",
    "print(list[0])\n",
    "print(list[0:3])\n",
    "print(list[3:])\n",
    "print(list[3:8])\n",
    "print(list[-2])\n",
    "print(list * 2)"
   ]
  },
  {
   "cell_type": "code",
   "execution_count": 10,
   "metadata": {
    "scrolled": true
   },
   "outputs": [
    {
     "name": "stdout",
     "output_type": "stream",
     "text": [
      "(20, 25, 30, 'shukla', 'olga', 'lena')\n",
      "(20, 25, 30, 'shukla', 'olga', 'lena')\n",
      "(20, 25, 30, 'shukla')\n",
      "('shukla', 'olga', 'lena')\n",
      "('shukla', 'olga', 'lena')\n",
      "lena\n",
      "(20, 25, 30, 'shukla', 'olga', 'lena', 20, 25, 30, 'shukla', 'olga', 'lena')\n"
     ]
    }
   ],
   "source": [
    "#tuple is similar to the lists but only exception is that lists can be modified whereas tuple can't that is tuple is rigid in nature.\n",
    "#tuple is created within parentheses through comma.\n",
    "#let's create tuple first and print/slicing it.\n",
    "\n",
    "tupl = (20,25,30,'shukla','olga','lena')\n",
    "print(tupl)\n",
    "print(tupl[0:6])\n",
    "print(tupl[0:4])\n",
    "print(tupl[3:])\n",
    "print(tupl[3:6])\n",
    "print(tupl[-1])\n",
    "print(tupl * 2)"
   ]
  },
  {
   "cell_type": "code",
   "execution_count": 11,
   "metadata": {},
   "outputs": [
    {
     "name": "stdout",
     "output_type": "stream",
     "text": [
      "0\n",
      "1\n",
      "2\n",
      "3\n",
      "4\n",
      "5\n",
      "6\n",
      "7\n",
      "8\n",
      "9\n"
     ]
    }
   ],
   "source": [
    "#range datatype -> represents a sequence of numbers and numbers in the range are not modifiable. generally , range is used for repeating a for loop for a specific number of times.\n",
    "#To create a range of numbers, we can simply write:\n",
    "r = range(10)\n",
    "#Here, the range object is created with the numbers starting from 0 to 9.we can display these numbers using a for loop as:\n",
    "for i in r:print(i)\n",
    "#the above statement will display numbders from 0 to 9.\n",
    "qazzzzzzzzzzzzzzzzzzzzzzzzzzzzzzzzzzzzzzzzzzzzzzzzzzzzzzzzzzzzzzz"
   ]
  },
  {
   "cell_type": "code",
   "execution_count": 14,
   "metadata": {},
   "outputs": [
    {
     "name": "stdout",
     "output_type": "stream",
     "text": [
      "20\n",
      "22\n",
      "24\n",
      "26\n",
      "28\n",
      "30\n",
      "32\n",
      "34\n",
      "36\n",
      "38\n"
     ]
    }
   ],
   "source": [
    "r = range(20,40,2)\n",
    "#this will craete a range object with a starting number 20 and an ending number 39.the step size here will be 2.it means the numbers in the range will increase by 2 every time.so the for loop\n",
    "for i in r:print(i)\n",
    "#will display numbers : 20, 22, 24, 26 ....upto 38."
   ]
  },
  {
   "cell_type": "code",
   "execution_count": 11,
   "metadata": {},
   "outputs": [
    {
     "ename": "SyntaxError",
     "evalue": "invalid syntax (<ipython-input-11-890f5f3f34d6>, line 6)",
     "output_type": "error",
     "traceback": [
      "\u001b[1;36m  File \u001b[1;32m\"<ipython-input-11-890f5f3f34d6>\"\u001b[1;36m, line \u001b[1;32m6\u001b[0m\n\u001b[1;33m    My_list = list[**range(0,10,1)]\u001b[0m\n\u001b[1;37m                   ^\u001b[0m\n\u001b[1;31mSyntaxError\u001b[0m\u001b[1;31m:\u001b[0m invalid syntax\n"
     ]
    }
   ],
   "source": [
    "#let's create a list with range of numbers from 0 to 9.\n",
    "#lst = list[range(0,10)]\n",
    "#print(lst)\n",
    "#as e can see i the output, the result is not exactly what we were expecting because python does not able to unpack the result of range function\n",
    "#to solve thiswe can use argument-unpacking operator\n",
    "My_list = list[*range(0,10,1)]\n",
    "print(My_list)\n"
   ]
  },
  {
   "cell_type": "code",
   "execution_count": 8,
   "metadata": {},
   "outputs": [
    {
     "name": "stdout",
     "output_type": "stream",
     "text": [
      "[0, 1, 2, 3, 4, 5, 6, 7, 8, 9, 10]\n"
     ]
    }
   ],
   "source": [
    "#We can use the extend() function to unpack the result of range function \n",
    "#create an empty list\n",
    "My_list = []\n",
    "start, end = 0, 10 \n",
    "#check if the start value is smaller than end value\n",
    "if start < end:\n",
    "    #unpack the result\n",
    "    My_list.extend(range(start, end))\n",
    "    #append the last value\n",
    "    My_list.append(end)\n",
    "    \n",
    "print(My_list)"
   ]
  },
  {
   "cell_type": "code",
   "execution_count": 19,
   "metadata": {},
   "outputs": [
    {
     "name": "stdout",
     "output_type": "stream",
     "text": [
      "{10, 20, 50, 30}\n"
     ]
    }
   ],
   "source": [
    "#Sets -> is an unordered collection of elements much like a set in mathematics. order of the elements is not maintained in the sets.\n",
    "#it means the elements may not appear in the same order as they are entered into the set. moreover, a set does not accept duplicate elements.\n",
    "#there are two types of sets that is 1. set datatype 2. frozenset datatype \n",
    "#set datatype -> to create a set, we have to enter the elements seperated by commas inside curly braces.\n",
    "\n",
    "s = {10,20,30,20,50}\n",
    "print(s)\n",
    "#20 is not printed here in output two times because sets never repeates duplicate items nor the ordered is maintained that order of print is different from what we have entered."
   ]
  },
  {
   "cell_type": "code",
   "execution_count": 20,
   "metadata": {},
   "outputs": [
    {
     "name": "stdout",
     "output_type": "stream",
     "text": [
      "{'o', 'l', 'H', 'e'}\n"
     ]
    }
   ],
   "source": [
    "#we can use set function as to create a set as:\n",
    "ch = set(\"Hello\")\n",
    "print(ch)\n",
    "#printing ordered changed and word 'l' is not repeated."
   ]
  },
  {
   "cell_type": "code",
   "execution_count": 21,
   "metadata": {},
   "outputs": [
    {
     "name": "stdout",
     "output_type": "stream",
     "text": [
      "{1, 2, 3, 4, 5}\n"
     ]
    }
   ],
   "source": [
    "#we can convert a list into a set using the set() function as:\n",
    "lst = [1,2,5,4,3]\n",
    "s = set(lst)\n",
    "print(s)"
   ]
  },
  {
   "cell_type": "code",
   "execution_count": 25,
   "metadata": {},
   "outputs": [
    {
     "name": "stdout",
     "output_type": "stream",
     "text": [
      "{1, 2, 3, 4, 5}\n",
      "{1, 2, 3, 4, 5, 50, 60}\n",
      "{1, 3, 4, 5, 50, 60}\n"
     ]
    }
   ],
   "source": [
    "#since sets are unordered , we cannot retrieve the elements using indexing or slicing operations. For example, the following statements will give error messages.\n",
    "lst = [1,2,5,4,3]\n",
    "s = set(lst)\n",
    "print(s)\n",
    "#print(s[0]) #indexing, will give error as slicing/indexing not allowed in sets.\n",
    "#print(s[0:2]) #indexing, will give error.\n",
    "#update() method is used to add elements to a set as:\n",
    "s.update([50, 60])\n",
    "print(s) #may display {1, 2, 3, 4, 5, 50, 60}\n",
    "#remove() method is used to remove any particular element from a set as:\n",
    "s.remove(2)\n",
    "print(s) #remove 2 from the set.\n"
   ]
  },
  {
   "cell_type": "code",
   "execution_count": 27,
   "metadata": {},
   "outputs": [
    {
     "name": "stdout",
     "output_type": "stream",
     "text": [
      "{70, 80, 50, 90, 60}\n",
      "frozenset({80, 50, 70, 90, 60})\n"
     ]
    }
   ],
   "source": [
    "#Frozenset Datatype -> frozenset datatype is similar as set datatype except that fact is that data can be modified in set data type whereas frozenset datatype we can't mopdify data.\n",
    "#we can create a frozenset by passing a set in frozenset function.let's see ->\n",
    "s = {50,60,70,80,90,50}\n",
    "print(s)\n",
    "fs = frozenset(s)\n",
    "print(fs)\n"
   ]
  },
  {
   "cell_type": "code",
   "execution_count": 28,
   "metadata": {},
   "outputs": [
    {
     "name": "stdout",
     "output_type": "stream",
     "text": [
      "frozenset({'b', 'f', 'a', 'c', 'e', 'd'})\n"
     ]
    }
   ],
   "source": [
    "#another way of creating a frozenset is by passing a string(a group of character) to the frozenset() function as:\n",
    "fs = frozenset(\"abcdef\")\n",
    "print(fs)\n",
    "#remember \"update\" and \"remove\" function will not work on frozensets since they cannot be modified or updated."
   ]
  },
  {
   "cell_type": "code",
   "execution_count": 1,
   "metadata": {},
   "outputs": [
    {
     "name": "stdout",
     "output_type": "stream",
     "text": [
      "{10: 'kamal', 11: 'pranav', 12: 'Anup', 13: 'Olga', 14: 'lena'}\n"
     ]
    }
   ],
   "source": [
    "#Mapping Types -> A map represents a group of elements in the form of key value pairs so that when the key is given, we can retrieve the value associated with it.\n",
    "#The Dict datatype is an example for the map where Dict represents the a 'dictionary' that contains pairs of elements such that the first element represents the key and second represents it's value.\n",
    "#the key and it's value should be separated by a colon (:) and value- pairs by a comma whereas all the elements should be enclosed inside curly brackets{}.\n",
    "#Now let's create a dictionary by typing the roll numbers and names of students.\n",
    "\n",
    "d = {10 : 'kamal', 11 : 'pranav', 12 : 'Anup', 13 : 'Olga', 14 : 'lena'}\n",
    "print(d)"
   ]
  },
  {
   "cell_type": "code",
   "execution_count": 2,
   "metadata": {},
   "outputs": [
    {
     "name": "stdout",
     "output_type": "stream",
     "text": [
      "{10: 'olga', 12: 'lena'}\n"
     ]
    }
   ],
   "source": [
    "#we can create an empty dictionary too without any elements as:\n",
    "d = {} #empty dictionary\n",
    "#later we can store the key and values into it as:\n",
    "d[10] = 'olga'\n",
    "d[12] = 'lena'\n",
    "print(d)"
   ]
  },
  {
   "cell_type": "code",
   "execution_count": 3,
   "metadata": {},
   "outputs": [
    {
     "name": "stdout",
     "output_type": "stream",
     "text": [
      "{10: 'Gaurav', 11: 'Shukla', 12: 'lena', 13: 'Nadeen', 14: 'olga'}\n",
      "Gaurav\n",
      "dict_keys([10, 11, 12, 13, 14])\n",
      "dict_values(['Gaurav', 'Shukla', 'lena', 'Nadeen', 'olga'])\n",
      "{10: 'Gaurav', 12: 'lena', 13: 'Nadeen', 14: 'olga'}\n"
     ]
    }
   ],
   "source": [
    "#we can perform various operations on dictionaries.To retrieve value upon giving the key, simply mention d[key], for only keys use method keys() and for only valuses use method values().\n",
    "#let's elobarate all those above mentioned methods through codes.\n",
    "\n",
    "d = {10:'Gaurav', 11:'Shukla', 12:'lena', 13:'Nadeen', 14:'olga'}\n",
    "print(d)\n",
    "print(d[10])\n",
    "print(d.keys())\n",
    "print(d.values())\n",
    "del d[11]\n",
    "print(d)"
   ]
  },
  {
   "cell_type": "code",
   "execution_count": 12,
   "metadata": {},
   "outputs": [
    {
     "name": "stdout",
     "output_type": "stream",
     "text": [
      "This is first line and \this will be continued for the first line\n"
     ]
    }
   ],
   "source": [
    "#literals in python -> literal is a constant value that is stored into a variable in a program.\n",
    "# a = 15 , here 'a' is a variable in which constant 15 is stored and called as integral literal. the following are different types of literals in python:\n",
    "# Numerical literals , Boolean Literals , String Literals.\n",
    "#Numerical literals -> represent numbers. examples 450 ,-15 -> Integer Literal. 3.14286, -10.6, 1.25E4 -> Float literal. 0x5A1C -> Hexadecimal Literal. 0557 -> Octal Literal. 0B110101 -> Binary Literal. 18 + 3i -> Complex Literal.\n",
    "\n",
    "#Boolean Literals are the True or False Values Stored into a Bool type variable.\n",
    "\n",
    "#String Literals -> Group of characters is called a string literal. it is enclosed in single, double or triple quotes.\n",
    "#for example - 'This is my house'.\"This is my house\".\"\"\"This is my house\"\"\". compiler will consider all three as a string.\n",
    "#Triple quotes are used for multiple lines but it has demerits too that is it stores memory.\n",
    "#when a string spans more than one line then adding back slash(\\) will join the next string to it. for example ->\n",
    "str = \"This is first line and \\this will be continued for the first line\"\n",
    "print(str)\n"
   ]
  },
  {
   "cell_type": "code",
   "execution_count": 13,
   "metadata": {},
   "outputs": [
    {
     "name": "stdout",
     "output_type": "stream",
     "text": [
      "This is \n",
      "python\n"
     ]
    }
   ],
   "source": [
    "#we can use escape characters like \\n inside a string literal. for example :-\n",
    "str = \"This is \\npython\"\n",
    "print(str)\n",
    "#Escape characters escape the normal meaning and are useful to perform a different task. when a \\n is written , it will throw the cursor to the new line.\n",
    "# Important Escape Characters in Strings : - \n",
    "# Escape Character                Meaning\n",
    "# \\                           New Line Continuation\n",
    "# \\\\                          Display a single \\\n",
    "# \\'                          Display a single quote\n",
    "# \\\"                          Display a double quote\n",
    "#\\b                                backspace \n",
    "#\\r                                  Enter \n",
    "#\\t                            Horizontal tab space\n",
    "#\\v                                 Vertical tab\n",
    "#\\n                                  New Line "
   ]
  },
  {
   "cell_type": "code",
   "execution_count": 14,
   "metadata": {},
   "outputs": [
    {
     "name": "stdout",
     "output_type": "stream",
     "text": [
      "<class 'int'>\n"
     ]
    }
   ],
   "source": [
    "#Determining the Datatype of a Variable : ->\n",
    "#For knowing the Datatype of a variable or any object , we have to use the type() function. for example type(a) displays the datatype of the variable 'a'.\n",
    "a = 15\n",
    "print(type(a))\n",
    "#Observe the last line , it shows the class 'int' which means the variable 'a' is an object of the class int. it means 'int' is treated as a class.\n",
    "#Every datatype is treated as an object internally by python. in fact every datatype , function, method, class , module, lists, sets, etc. are all objects in python."
   ]
  },
  {
   "cell_type": "code",
   "execution_count": 15,
   "metadata": {},
   "outputs": [
    {
     "name": "stdout",
     "output_type": "stream",
     "text": [
      "<class 'int'>\n",
      "<class 'float'>\n",
      "<class 'str'>\n",
      "<class 'str'>\n",
      "<class 'list'>\n",
      "<class 'list'>\n",
      "<class 'set'>\n",
      "<class 'dict'>\n"
     ]
    }
   ],
   "source": [
    "#All datatypes are class objects in python . let's see ->\n",
    "a = 25\n",
    "print(type(a))\n",
    "a = 25.5\n",
    "print(type(a))\n",
    "s = 'Hello olga'\n",
    "print(type(s))\n",
    "print(type(\"lena\"))\n",
    "lst = [1, 2, 3, 4]\n",
    "print(type(lst))\n",
    "t = (1, 2, 3, 4)\n",
    "print(type(lst))\n",
    "s = {1, 2, 3, 4}\n",
    "print(type(s))\n",
    "d = {10:\"lena\", 11:\"maya\", 12:\"olga\", 13:\"nadeen\",14:\"safa\", 15:\"saba\"}\n",
    "print(type(d))\n"
   ]
  },
  {
   "cell_type": "code",
   "execution_count": 24,
   "metadata": {},
   "outputs": [
    {
     "name": "stdout",
     "output_type": "stream",
     "text": [
      "<class 'str'>\n",
      "B\n",
      "B\n",
      "h\n",
      "a\n",
      "r\n",
      "a\n",
      "t\n"
     ]
    },
    {
     "data": {
      "text/plain": [
       "True"
      ]
     },
     "execution_count": 24,
     "metadata": {},
     "output_type": "execute_result"
    }
   ],
   "source": [
    "#What about the characrters ?\n",
    "# In language like c, c++ and java have char datatype for single character but in python there is no concept of char datatype. \n",
    "# there is only str datatype which represents the strings. We know a string is composed of several characters , Hence when we think of chararcters we should think of it as asn element in a string.\n",
    "#let's assign a character 'a' to a variable ch & check the data type in python.\n",
    "ch = 'A'\n",
    "print(type(ch))\n",
    "#See that the type 'ch' is displayed as 'str' type. so, there is no concept like char datatype in python.\n",
    "#To work with strings , we have to access the individual characters of a string using index or position number. for example ->\n",
    "str = 'Bharat'\n",
    "print(str[0])\n",
    "#In the preceding example, the str[0] represents the oth character , i.e 'B'. Similarly , str[1] represents 'h' and str[2] represents 'a' and so on.\n",
    "#To retrieve all the characters using a for loop, we can write : ->\n",
    "for i in str:print(i)\n",
    "    \n",
    "#However, some of the useful methods in case of strings can also be used for characters.for example, isupper() is a method that tests whether a string is uppercase or lowercase.\n",
    "#It returns True if the string is uppercase otherwise false. This method can be used on a character to know whether it is uppercase letter or not.\n",
    "# Let's check the case of first two letters in 'Bharat' as:\n",
    "\n",
    "str[0].isupper() #checking if 'B' is capital letter or not.\n",
    "\n"
   ]
  },
  {
   "cell_type": "code",
   "execution_count": 21,
   "metadata": {},
   "outputs": [
    {
     "data": {
      "text/plain": [
       "False"
      ]
     },
     "execution_count": 21,
     "metadata": {},
     "output_type": "execute_result"
    }
   ],
   "source": [
    "str = \"Bharat\"\n",
    "str[1].isupper() #checking if 'h' is capital letter or not."
   ]
  },
  {
   "cell_type": "code",
   "execution_count": null,
   "metadata": {},
   "outputs": [],
   "source": [
    "#user-defined datatypes -> the datatypes which are created by the programmers are called user-defined datatypes.\n",
    "#For example -> an array, a class or a module is user - defined datatypes. We will discuss about these datatypes in the later modules."
   ]
  },
  {
   "cell_type": "code",
   "execution_count": 25,
   "metadata": {},
   "outputs": [],
   "source": [
    "#Constants in Python -> A constant is similar to a variable but it's value cannot be modified or changed during the execution in the program.\n",
    "#we know that variable value can be changed whenever required but that is not possible for a constant. once defined a constant cannot allow changing its value for example in maths value of pi is 22/7 which can't be changed which is a constant.\n",
    "# In languages like c and java , defining constants is possible but in python that is not possible.\n",
    "# A programmer can indicate a variable as constant by writing its name in all capital letters, for example -> MAX_VALUE is a constant but it's value can be changed.\n",
    "#Identifiers -> identifier is a name that is given to a variable or function or class etc. identifiers can include letters , numbers and the underscore charracter(_). They should always start with non-numeric character and special symbols such as ?,#,$,% and @ are not allowed.\n",
    "\n",
    "#We should also remember that python is a case sensitive programming language. It Means capital letters and small letters are identified separately by python.\n",
    "#For example ->the names \"num\" & \"NUM\" are treated as different names and hence represent different variables. \n",
    "\n",
    "#Reserved Words -> which are already reserved for specific purposes and can't be used for an identifiers (for variable, functions, class etc.)\n",
    "#Reserved keywords example -> and, del, from, nonlocal, try, as, elif, global, not, while, assert, else, if, or, with, break, except.\n",
    "\n",
    "#Namimg Conventions in python -> 1. Packages - packages name should be written in all lower case.When multiple words are used for name, we should separate them using an underscore_\n",
    "                               # 2. Modules -> Modeules name should be written in all lower case.When multiple words are used for a name, we should separate them using an underscore_\n",
    "                               #3. classes -> Each word of a class name should start with a capital letter. Python's built-in class names use all lowercase words.\n",
    "                                            #when a class reprsents exception, then its name should end with a word \"Error\".\n",
    "                               #4. Global variables or Module level Variables: Global variables names should be all lower case letters. when multiple words are used for a name , we should separate them using an underscore_\n",
    "                               #5. Instance Variables: Instance variables names should be all lower case letters. when multiple words are used for name, we should separate them using an underscore(_).\n",
    "                                                    #Note:-> Non - public instance variable name should begib with an underscore.\n",
    "                              #6. Functions: Function name should be all lower case letters. when multiple words are used for a name, we should separate them using an underscore(_).\n",
    "                              #7. Methods: Method names should be all lower case letters. when multiple words are used for a name, we should separate them using an underscore(_)\n",
    "                              #8. Method Arguments: In case of instance methods, their first argument name should be 'self'. in case of class methods, their first argument name should be 'cls'.\n",
    "                              #Constants: Constants name should be all in capital letters. if a constant has several words, then each word should be separated by an underscore(_).\n",
    "                              #9.Non Accessible Entities: some variables, functions and methods are not accessible outside and they should be used as they are in the program.such entities names are written with two double quotes before and two double quotes after.\n",
    "                                                        #For example: __init__(self) is a function used in a class to initialize variables.\n",
    "\n",
    "\n",
    "                                "
   ]
  },
  {
   "cell_type": "code",
   "execution_count": 26,
   "metadata": {},
   "outputs": [
    {
     "data": {
      "text/plain": [
       "'Operators In Python'"
      ]
     },
     "execution_count": 26,
     "metadata": {},
     "output_type": "execute_result"
    }
   ],
   "source": [
    "                                                'Operators In Python'\n",
    "#operators -> is a symbol that performs an operation and operators acts on some variables called operands.\n",
    "#if an operator acts on single variable then it is called as unary operator, if an operator acts on two operators acts on two variables then it c=is called as binary operator.\n",
    "# and when an operator acts on three variable then it is called as ternary opeartor.\n"
   ]
  },
  {
   "cell_type": "code",
   "execution_count": 1,
   "metadata": {},
   "outputs": [
    {
     "data": {
      "text/plain": [
       "'Classification of operators'"
      ]
     },
     "execution_count": 1,
     "metadata": {},
     "output_type": "execute_result"
    }
   ],
   "source": [
    "                                               \"Classification of operators\"\n",
    "#Arithmetic Operators -> 1. + (Addition operator)\n",
    "                        #2. - (Subtraction Operator)\n",
    "                        #3. * (Multiplication Operator)\n",
    "                        #4. / (Division Operator)\n",
    "                        #5. % (Modulus operator, Gives remainder of Division)\n",
    "                        #6. ** (Exponent Operator, Gives Remainder of Division)\n",
    "                        #7. // (Integer Division,also called floor division.performs division and gives only integer quotient)\n",
    "#Note:-> Arithmetic Evaluation rule -> First -> Parentheses , Second -> Exponentiation , Third -> Multiplication, division, modulus & floor divisions are at equal priority.\n",
    "                                     #Fourth -> Addition and Subtraction , fifth -> assignment operation.\n",
    "    # Example -> d = (x + y)*z**a//b+c , x = 1, y=2, z=3, a=2, b=2, c=3. \n",
    "    #first solve parentheses -> (1 + 2 )*3**2//2+3 = 3*3**2//2+3\n",
    "    #Exponentiation = 3*9//2+3\n",
    "    #Multiplication,division,modulus & floor division are at equal priority. d = 27//2+3 = 13+3 = 16 .ANS"
   ]
  },
  {
   "cell_type": "code",
   "execution_count": 2,
   "metadata": {},
   "outputs": [],
   "source": [
    "#Assignment Operators -> These operatos are useful to store the right side value into the the left side side value. they can be also useful to perform simple arithmetuc operations like addition , subtraction, etc.\n",
    "#and they store the result into a variable. Assignment operators & their meaning :- \n",
    "#Operator         #example       #Meaning\n",
    "#=                #z = x + y      #x + y stored in z.\n",
    "#+=              #Z+=x            #z = z+x\n",
    "#-=              #z-=x            #z = z-x\n",
    "#*=              #z*=x            #z = z*x \n",
    "#/=              #z/=x            #z = z/x\n",
    "#%=              #z%=x            #z = z%x\n",
    "#**=             #z**=y           #z = z**y\n",
    "#//=             #z//=y           #z = z//y\n",
    "\n",
    "#Note -> possible to assign same value to two varibles in the same statement. ex -> a = b = 1, print(a, b) #will display 11\n",
    "\n",
    "#Note -> we can define different values to two variables as: \n",
    "#a = 1 , b =2 , print(a, b) #will display 1 2\n",
    "\n",
    "# Same can be done using following statement -> a, b = 1, 2 , print(a , b) # will display 1 2 \n",
    "\n",
    "#A word of caution: Python does not have increment(++) and decrement(--) operator which are avilable in c and java.\n",
    " \n",
    "\n",
    "\n"
   ]
  },
  {
   "cell_type": "code",
   "execution_count": 3,
   "metadata": {},
   "outputs": [],
   "source": [
    "#Unary Minus Operator -> unary minus operator is denoted by symbol (-) & when this symbol is used before variable then it's value becomes negative.\n",
    "#example :-> a = 6 , print(-n) #displays - 6 . Another example -> b = -6 , print(-b) #display 6. \n"
   ]
  },
  {
   "cell_type": "code",
   "execution_count": 6,
   "metadata": {},
   "outputs": [],
   "source": [
    "#Logical Operators -> useful for building compound conditions. compound conditions are a combination of one or more simple conditions.\n",
    "# Simple conditions is evaluated to True or False and then decision is taken to know whether the condition is True or False.\n",
    "#we should keep in mind that in case of logical operators , False indicates zero(0) and True indicates one(1).\n",
    "#logical operators \n",
    "#operators        #example         #meaning \n",
    "#And              x and y       And Operator. if {x = 0 , y =1 = 0 or vice-versa}, {x = 0 , y = 0 = 0},{x = 1, y = 1 = 1}.\n",
    "#Or               x or y        Or Operator. if {x = 0, y = 1 = 1 or vice-versa}, {x= 0, y = 0 = 0 or vice-versa}.\n",
    "#Not              Not x        Not Operator. if (x = 0 = 1 or vice - versa)\n",
    "\n",
    "\n"
   ]
  },
  {
   "cell_type": "code",
   "execution_count": 18,
   "metadata": {},
   "outputs": [],
   "source": [
    "#Relational operators -> Relational operators are used to compare two quantities. Here are Relational Operators :->\n",
    "#Operatos               #Example                #Meaning \n",
    "#>                        a>b               a greater than b \n",
    "#>=                      a>=b            a greater or equal to b\n",
    "#<                       a<b               a is less than b \n",
    "#<=                     a<=b            a less than or equal to b \n",
    "#==                     a==b           equals operator. a equals to b\n",
    "#!=                     a!=b                a is not equal to b \n",
    "\n",
    "#Usage Of Relational operator:-> Relational operators are generally used to construct conditions in if statement. For Example :->\n",
    "\n",
    "    "
   ]
  },
  {
   "cell_type": "code",
   "execution_count": 19,
   "metadata": {},
   "outputs": [
    {
     "name": "stdout",
     "output_type": "stream",
     "text": [
      "No\n"
     ]
    }
   ],
   "source": [
    "a =1; b = 2 \n",
    "if (a>b):\n",
    "    print('yes')\n",
    "else:\n",
    "    print('No')"
   ]
  },
  {
   "cell_type": "code",
   "execution_count": 9,
   "metadata": {},
   "outputs": [
    {
     "data": {
      "text/plain": [
       "True"
      ]
     },
     "execution_count": 9,
     "metadata": {},
     "output_type": "execute_result"
    }
   ],
   "source": [
    "#Boolean Operators :-> we know that there are two bool types literals that is \"True\" or \"False\". They provide Bool type output that is either \"true\" or \" false\"\n",
    "#Boolean Operators Are : - \n",
    "#Operator                #Example                  #meaning \n",
    "#and                      x and y            if both x and y are True then it returns True, otherwise False.\n",
    "#or                       x or y             if either x or y is True, then it returns True, else False.\n",
    "#not                      not x              if x is True, it returns false else True.\n",
    "#For example:->\n",
    "\n",
    "a = True\n",
    "b = False \n",
    "a and a \n",
    "\n",
    "\n",
    "\n",
    "\n",
    "\n",
    "\n"
   ]
  },
  {
   "cell_type": "code",
   "execution_count": 10,
   "metadata": {},
   "outputs": [
    {
     "data": {
      "text/plain": [
       "False"
      ]
     },
     "execution_count": 10,
     "metadata": {},
     "output_type": "execute_result"
    }
   ],
   "source": [
    "a and b"
   ]
  },
  {
   "cell_type": "code",
   "execution_count": 11,
   "metadata": {},
   "outputs": [
    {
     "data": {
      "text/plain": [
       "False"
      ]
     },
     "execution_count": 11,
     "metadata": {},
     "output_type": "execute_result"
    }
   ],
   "source": [
    "b and b"
   ]
  },
  {
   "cell_type": "code",
   "execution_count": 12,
   "metadata": {},
   "outputs": [
    {
     "data": {
      "text/plain": [
       "False"
      ]
     },
     "execution_count": 12,
     "metadata": {},
     "output_type": "execute_result"
    }
   ],
   "source": [
    "a and b"
   ]
  },
  {
   "cell_type": "code",
   "execution_count": 13,
   "metadata": {},
   "outputs": [
    {
     "data": {
      "text/plain": [
       "True"
      ]
     },
     "execution_count": 13,
     "metadata": {},
     "output_type": "execute_result"
    }
   ],
   "source": [
    "a or a"
   ]
  },
  {
   "cell_type": "code",
   "execution_count": 14,
   "metadata": {},
   "outputs": [
    {
     "data": {
      "text/plain": [
       "True"
      ]
     },
     "execution_count": 14,
     "metadata": {},
     "output_type": "execute_result"
    }
   ],
   "source": [
    "a or b"
   ]
  },
  {
   "cell_type": "code",
   "execution_count": 15,
   "metadata": {},
   "outputs": [
    {
     "data": {
      "text/plain": [
       "False"
      ]
     },
     "execution_count": 15,
     "metadata": {},
     "output_type": "execute_result"
    }
   ],
   "source": [
    "b or b"
   ]
  },
  {
   "cell_type": "code",
   "execution_count": 16,
   "metadata": {},
   "outputs": [
    {
     "data": {
      "text/plain": [
       "False"
      ]
     },
     "execution_count": 16,
     "metadata": {},
     "output_type": "execute_result"
    }
   ],
   "source": [
    "not a"
   ]
  },
  {
   "cell_type": "code",
   "execution_count": 17,
   "metadata": {},
   "outputs": [
    {
     "data": {
      "text/plain": [
       "True"
      ]
     },
     "execution_count": 17,
     "metadata": {},
     "output_type": "execute_result"
    }
   ],
   "source": [
    "not b"
   ]
  },
  {
   "cell_type": "code",
   "execution_count": 9,
   "metadata": {},
   "outputs": [
    {
     "data": {
      "text/plain": [
       "\"x = 10\\ny = 11\\nprint('~x=', ~x)\\n~x= -11\\nprint('x&y', x & y)\\nx&y= 10\\nprint('x|y=', x | y)\\nx|y=11\\nprint('x^y=', x ^ y)\\nx^y=1\\nprint('x<<=2', x<<2)\\nx<<2= 40\\nprint('x>>2=', x>>2)\\nx>>2= 2 \""
      ]
     },
     "execution_count": 9,
     "metadata": {},
     "output_type": "execute_result"
    }
   ],
   "source": [
    "#Bitwise Operator -> These operators act on individual bits (0 and 1) of the operands. we can use bitwise operators directly on binary numbers or on integers also.\n",
    "#When we use these operators on integers, these numbers are converted into bits (binary number system) and then bitwise operators act upon those bits.\n",
    "#There are 6 types of bitwise operators as shown below: ->\n",
    "#1. Bitwise Complement Operator (~)\n",
    "#2. Bitwise AND operator (&)\n",
    "#3. Bitwise OR operator (|)\n",
    "#4. Bitwise XOR Operator (^)\n",
    "#5. Bitwise left shift operator(<<)\n",
    "#6 Bitwise Right shift operator(>>)\n",
    "#We will discuss each of these operators one by one.\n",
    "\n",
    "#Bitwise Complement Operator (~)- This operator gives the complement form of a given number. This operator symbol is ~ , which is pronounced as tilde. \n",
    "#Complement form of a positive number can be obtained by changing 0's as 1's and vice versa. The complement operation is performed by NOT gate circuit in electronics.\n",
    "# x    y \n",
    "# 0    1\n",
    "# 1    0   NOT GATE\n",
    "\n",
    "#BITWISE AND Operator (&) -> This operator performs AND operation on the individual bits of numbers. For Example - \n",
    "# x = 10 = 0000 1010        x     y         x & y \n",
    "# y = 11 = 0000 1011        0     0           0\n",
    "# x & y =  0000 1010        0     1           0\n",
    "                           #1     0           0\n",
    "                           #1     1           1\n",
    "\n",
    "#BITWISE OR OPERATOR(|) -> This operator performs OR operation on the bits of the numbers. for example ->\n",
    "#  x     y     x | y \n",
    "#  0     0       0              x = 10 = 0000 1010\n",
    "#  0     1       1              y = 11 = 0000 1011\n",
    "#  1     0       1             x|y = 0000 1011\n",
    "#  1     1       1\n",
    "\n",
    "\n",
    "#BITWISE XOR Operator (^) -> This operator performs exclusive or (XOR) operation on the bits of numbers. The symbol is ^, which is called cap, carat or circumflex symbol.\n",
    "# x     y    x^y \n",
    "#0      0     0            x = 10 = 0000 1010\n",
    "#0      1     1            y = 11 = 0000 1011 \n",
    "#1      0     1            x^y =    0000 0001\n",
    "#1      1     0\n",
    "\n",
    "\n",
    "#BITWISE LEFT SHIFT Operator(<<) -> This operator shifts the bits of the number towards left a specified number of positions. \n",
    "#The symbol for this operator is <<, read as double less than. if we write x<<n, the meaning is to shift the bits of x towards left n positions.For example - \n",
    "# if x = 10, Calculagte x value if we write x<<2. \n",
    "# Shifting the value of x towards left 2 positions will make the leftmost 2 bits to be lost. The value of x is 10 = 0000 1010.\n",
    "#Now , x<<2 will be 0010 1000 = 40 (in decimal). the peocedure to do this is explained , as shown in figure 4.9 \n",
    "\n",
    "# x = 10 =    0000 1010\n",
    "#x<<2 =       0010 1000\n",
    "\n",
    "\n",
    "#Bitwise Right Shift Operator (>>) -> This operator shifts the bits of the number towards right a specified number of positions. this symbol for this operator is >>, read as double greater than. if we write x>>n , the meaning is to shift the bits of x towards right n positions.\n",
    "#>> shifts the bits towards right and also preserves the sign bit, which is the leftmost bit.sign bit represents the sign of the number.\n",
    "#sign bit 0 represents a positive number and 1 represents a negative number. so, after performing >> operation on a positive number, we get a positive value in the result also.\n",
    "#if right shifting is done on a negative number, again we get a negative value only. for example ->\n",
    "# if x = 10, then calculate x>>2 value ?\n",
    "# shifting the value of x towards right 2 positions will make the rightmost 2 bits to be lost. x value is 10 = 0000 1010.\n",
    "#Now x >> 2 will be : 0000 0010 = 2 (in decimal) \n",
    "# x = 10 = 0000 1010 \n",
    "#x>>2 =    0000 0010\n",
    "#Let's check the effects of various bitwise operators so far discussed.\n",
    "\n",
    "\"\"\"x = 10\n",
    "y = 11\n",
    "print('~x=', ~x)\n",
    "~x= -11\n",
    "print('x&y', x & y)\n",
    "x&y= 10\n",
    "print('x|y=', x | y)\n",
    "x|y=11\n",
    "print('x^y=', x ^ y)\n",
    "x^y=1\n",
    "print('x<<=2', x<<2)\n",
    "x<<2= 40\n",
    "print('x>>2=', x>>2)\n",
    "x>>2= 2 \"\"\"\n"
   ]
  },
  {
   "cell_type": "code",
   "execution_count": 11,
   "metadata": {},
   "outputs": [
    {
     "name": "stdout",
     "output_type": "stream",
     "text": [
      "olga\n",
      "nadeen\n",
      "lena\n",
      "safa\n",
      "saba\n",
      "Delhi 110001\n",
      "chennai 600001\n",
      "kolkata 700001\n",
      "Bangalore 560001\n"
     ]
    }
   ],
   "source": [
    "#Membership Operators -> are useful to test for membership in a sequence such as strings, lists, tuples or dictionaries. \n",
    "#For example, if an element is found in the sequence or not can be asserted using thes operators.There are two membership operations as shown here:\n",
    "# 1. in \n",
    "#2. not in\n",
    "\n",
    "#The in operator -> This operator returns True if an element is found in the specified sequence. if the element is not found in the sequence, then it returns False.\n",
    "#The not in Operator -> This works in reverse manner for \"in\" operator. this operator returns True if an element  is not found in the sequence.\n",
    "#If the element is found, then it returns False.\n",
    "\n",
    "#let's take a group of strings in a list and want to display the members of the list using a for loop where the 'in' operator is used.\n",
    "names = [\"olga\", \"nadeen\", \"lena\", \"safa\", \"saba\"]\n",
    "for name in names:\n",
    "    print(name)\n",
    "    \n",
    "#In the for loop,  the variable 'name' is used. this variable will store each and every value of the list 'names'.\n",
    "#The operator \"in\" will check whether each of these names is a member of the list or not. For example olga is a member of the list and hence \"in\" will retuen True.\n",
    "#When True is returned, the print() function in the for loop is executed and that name is displayed.\n",
    "\n",
    "\n",
    "#Another example-> we want ot display the elements of dictionary and it contains the postal details that is cities with their pincode\n",
    "#the city becomes a key and the pin code will become its value. for example :- \n",
    "\n",
    "postal = {\"Delhi\": 110001, \"chennai\": 600001, \"kolkata\": 700001, \"Bangalore\": 560001}\n",
    " #Now, we want to retrieve each key and its corresponding value . for this purpose, we take a variable \"city\" in for loop.\n",
    "#Every time in the for loop , \"city\" will get the name of the city. To get the corresponding value, we can use postal[city].\n",
    "#So, the following for loop will display the cities and their pin codes from \"postal\" dictionary.\n",
    "\n",
    "for city in postal:\n",
    "    print(city, postal[city])"
   ]
  },
  {
   "cell_type": "code",
   "execution_count": 19,
   "metadata": {},
   "outputs": [
    {
     "name": "stdout",
     "output_type": "stream",
     "text": [
      "a and b have same identity\n",
      "one and two are not same\n",
      "one and two are same\n"
     ]
    },
    {
     "data": {
      "text/plain": [
       "140731478256160"
      ]
     },
     "execution_count": 19,
     "metadata": {},
     "output_type": "execute_result"
    }
   ],
   "source": [
    "#Identity Operators -> operators compare the memory locations of two objects.\n",
    "#hence, it is possible to know whether the two objects are same or not. the memory location of an object can be seen using the id() function.\n",
    "#This function returns an integer number, called the identity number that internally represents the memory location of the object.let's see --\n",
    "\n",
    "a = 25\n",
    "b = 25\n",
    "id(a)\n",
    "id(b)\n",
    "\n",
    "#There are two identity operators:->\n",
    "#1. is \n",
    "#2. is not\n",
    "\n",
    "#The is Operator : -> The 'is' operator is useful to compare whether two objects are same or not.\n",
    "#It will internally compare the identity number of the objects. if the identity numbers of the objects are same, it will return True; otherwise, it returns False.\n",
    "\n",
    "#The is not operator : -> This is not operator returns True, if the identity numbers of two objects being compared are not same.\n",
    "#If they are same, then it will retuen False.\n",
    "#The 'is' and 'is not' operators do not compare the values of the objects. They compare the identity numbers or memory locations of the objects.\n",
    "#if we want to compare the value of the objects, we should use equality operator (==).\n",
    "\n",
    "a = 25\n",
    "b = 25\n",
    "if(a is b):\n",
    "    print(\"a and b have same identity\")\n",
    "else:\n",
    "    print(\"a and b don not have same identity\")\n",
    "    \n",
    "#Another example, we will take two lists with 4 elements each as:\n",
    "\n",
    "one = [1,2,3,4]\n",
    "two = [1,2,3,4]\n",
    "if(one is two):\n",
    "    print(\"one and two are same\")\n",
    "else:\n",
    "    print(\"one and two are not same\")\n",
    "    \n",
    "#In the preceding example, the lists one and two are having same elements or values.But the output is \"one and two are not same\".\n",
    "#Reason is that 'is' operator does not compare the values. it compares the identity numbers if the lists.\n",
    "#Let's see the identity numbers of these two lists by using the id() function.\n",
    "\n",
    "id(one)\n",
    "id(two)\n",
    "\n",
    "#Since both the lists are created at different memory locations, we have their identity numbers different.\n",
    "#So, 'is' operator will take the lists 'one' and 'two' as two different lists even though their values are same.\n",
    "#it means,'is' is not comparing their values.we can use equality(==) operator to compare their values as:\n",
    "\n",
    "if(one==two):\n",
    "    print(\"one and two are same\")\n",
    "else:\n",
    "    print(\"one and two are not same\")\n",
    "    \n"
   ]
  },
  {
   "cell_type": "code",
   "execution_count": 1,
   "metadata": {},
   "outputs": [],
   "source": [
    "#Operator Precendence and associativity -> An expression or formula may contain several operators. \n",
    "#In such a case, the programmer should know which operator is executed first and which one is executed next.\n",
    "#The sequence of execution of the operators is called operator precedence.The following table summarizes the operators which are having highest precedence are listed at the top of the table.\n",
    "\n",
    "#Precendence of operators in python \n",
    "\n",
    "#Operator             #Name\n",
    "\n",
    "#()                 parenthesis\n",
    "#**               Exponentiation\n",
    "#-,~            unary minus, Bitwise, complement\n",
    "#*,/,//,%    Multiplication, Division, Floor Division, Modulus\n",
    "#+, -             Addition, Subtraction \n",
    "#<<, >>        Bitwise left shift, Bitwise right shift\n",
    "#&                 Bitwise AND\n",
    "#^                 Bitwise XOR\n",
    "#|                 Bitwise OR\n",
    "#>,>=,<,<=,==,!=  Relational (comparison) operators \n",
    "#=, %=, /=, //=, -=, +=, *=, **=   Assignment operators\n",
    "#is, is not      Identity Operators \n",
    "#in , not in   Membership Operators\n",
    "#not          logical not\n",
    "#or           logical or\n",
    "#and          logical and\n",
    "\n",
    "#Precendence represents the priority level of the operator. The operators with higher precedence will be executed first than of lower precedence.\n",
    "#Suppose an expression contains operators having same precedence then which operator is executed first is another question.\n",
    "#it means knowing whether the execution is from left to right or right to left.This is associativity.\n",
    "#'Associativity' isthe order in which an expression is evaluated that has multiple operators of the same precedence.\n",
    "#Almost all the operators have left to right associativity in pyhton. Let's take an expression value = 3/2*4 + 3 + (10/4)**3-2 to understand how these precedence rules can be applied.\n",
    "#the final value of this expression will be 22.625 , as shown below :- \n",
    "#Table :-> Evaluation of an expression \n",
    "#Expression                                  #Explanation\n",
    "#value = 3/2*4+3+(10/4)**3-2\n",
    "\n",
    "#value = 3/2*4+3+2.5**3-2               The expression in () is evaluated first.\n",
    "\n",
    "#value = 3/2*4+3+15.625-2                   Exponentiation ** is next.\n",
    "\n",
    "#value = 1.5*4+3+15.625-2              * and / have equal precedence. They are evaluated fromm left to right(associativity).So, first / and then *.\n",
    "#value = 6.0 + 3 + 15.625-2\n",
    "\n",
    "#value = 9.0+15.625-2                 + and - have equal precedence. They are evaluated from left to right (associativity). So, first + and then - .\n",
    "#value = 24.625-5\n",
    "#value = 22.625 "
   ]
  },
  {
   "cell_type": "code",
   "execution_count": 3,
   "metadata": {},
   "outputs": [
    {
     "name": "stdout",
     "output_type": "stream",
     "text": [
      "4.0\n",
      "Area of circle= 754.7676350249478\n"
     ]
    }
   ],
   "source": [
    "#Mathematical functions -> In python , there is a built in functions which perform some standar mathematical operations for which we need to create any logic.\n",
    "#Those mathematical operations can be performed using math module. module is a file that contains objects like functions, classes or variables.\n",
    "#Math module perform several functions for mathematical operations for which we need to import math module first. like ->\n",
    "import math #once this is done we can use any functions in math module.Now, we can refer to sqrt() function from math module by writing module name before the function as:\n",
    "x = math.sqrt(16) #Here x value will become 4.0\n",
    "print(x) #we can also import statement as: import math as m , x = m.sqrt(16)\n",
    "\n",
    "#import math statement is useful to import all the functions from math module. \n",
    "#On the other hand, if the programmer wants only one or two functions from math module, he can write as:\n",
    "#from math import sqrt, from math import factorial, sqrt.\n",
    "\n",
    "#Here, the programmer is importing two functions by the names factorial() and sqrt().The programmer can use these functions wuthout using module name before them as:\n",
    "# x = sqrt(16)\n",
    "#y = factorial(5)\n",
    "\n",
    "#important math functions:->\n",
    "\n",
    "#Functions                  Description\n",
    "\n",
    "#ceil(x)              Raises x value to the next higher integer. if x is integer, then same value is returned.ex ceil(4.5) gives 5\n",
    "\n",
    "#floor(x)            Decreases x value to the previous integer value.if x integer, then same value is returned. ex floor(4.5) gives 4\n",
    "\n",
    "#degrees(x)         converts angle value x from radians into degrees.Ex: degree(3.14159) gives 179.99984\n",
    "\n",
    "#radians(x)         converts x value from degress into radians.ex radians(180) gives 3.141592635.\n",
    "\n",
    "#sin(x)            Give sine value of x. ex: sin(0.5) gives 0.4794255.\n",
    "\n",
    "#cos(x)           Give cosine value of x.\n",
    "\n",
    "#tan(x)           give tan value of x.\n",
    "\n",
    "#exp(x)          returns exponentiation of x. same as e**x.ex: exp(0.5) returns 1.6487212\n",
    "\n",
    "#fabs(x)         Gives the obsolute value (or positive quantity) of x.\n",
    "\n",
    "#factorial(x)   Returns factorial value of x.Raises 'ValueError' if x is not integer or is negative. Ex: factorial(4) gives - 4x3x2x1 = 24.\n",
    "\n",
    "#fmod(x,y)     returns remainder of division of x and y. fmod() is preffered to calculate modulus for float values than '%' operator. '%' operator works well for integer values.\n",
    "               #Ex: fmod(14.5) gives 2.5.\n",
    "\n",
    "#fsum(values)  returns accurate sum of floating point values. Ex: fsum([1.5, 2.4, -3.3]) returns 0.6000000000000001\n",
    "\n",
    "#modf(x)      returns float and integral oarts of x.Ex: modf(2.56) gives (0.56, 2.0)\n",
    "\n",
    "#log10(x)     returns base -10 logarithm of x.Ex: log10(5.2345) gives 0.7188752041406328.\n",
    "\n",
    "#log(x,[, base]) returns the natural logarithm of x of specified base.Ex: log(5.5, 2) gives 2.4594316186372973.\n",
    "\n",
    "#sqrt(x)  Returns positive square root value of x.Ex: sqrt(49) gives 7.0\n",
    "\n",
    "#pow(x,y)  raises x value to the power of y.Ex: pow(5,3) returns 125.0\n",
    "\n",
    "#gcd(x,y) Gives greatest common divisor of x and y.Ex: gcd(25,30) gives 5 , simly HCF.\n",
    "\n",
    "#trunc(x) The real value of x is truncated to integer value and returned. Ex: trunc(15.5676) gives 15.\n",
    "\n",
    "#isinf(x)  Returns True if x is a positive or negative infinity and false otherwise.Ex: num = float('inf') #num is a float number that indicates infinity.\n",
    "\n",
    "           #Isinf(num) gives True.\n",
    "    \n",
    "#isnan(x)  Returns True if x is a NaN(not a number), and False otherwise.Ex: num = float('NaN') #Convert NaN into a float representation\n",
    "           #isnan(num) gives True.\n",
    "    \n",
    "    \n",
    "#Constants in math module\n",
    "\n",
    "#Constant                    Description \n",
    "#pi                 The mathematical constant pi = 3.141592..... with high precision.\n",
    "#e                  The mathematical constant e = 2.718281....., with high precision.\n",
    "#inf                A floating-point positive infinity. (For negative infinity, use-math.inf.)Equivalent to the output of float('inf')\n",
    "#nan                A floating-point \"not a number\" (NaN) value. Equivalent to the output of float('nan')\n",
    "\n",
    "#Let's write a python program to calculate the area of circle.\n",
    "\n",
    "import math\n",
    "r = 15.5\n",
    "area = math.pi * r ** 2\n",
    "print('Area of circle=', area)\n",
    "area_circle = 754.7676350249478\n"
   ]
  },
  {
   "cell_type": "code",
   "execution_count": 2,
   "metadata": {},
   "outputs": [
    {
     "name": "stdout",
     "output_type": "stream",
     "text": [
      "2\n",
      "2 4\n",
      "2,4\n",
      "2:4\n",
      "2----4\n",
      "Hello\n",
      "Dear\n",
      "How are you\n",
      "HelloDearHow are u?Hello\tDear\tHow are u?\t"
     ]
    }
   ],
   "source": [
    "#Input And Output -> Chapter 5 \n",
    "#The purpose of computer is to process data and for which we have to give data as input and results which come from the computer becomes as output.\n",
    "#python has provided input and output statements for this. let's have a look ->\n",
    "\n",
    "#Output Statements -> To display output or results , python provides the print() function.This function can be used in different formats discussed as below:->\n",
    "\n",
    "\n",
    "#The print() statement -> When the print() function is called simply, it will throw the cursor to the next line. It means that a blank line will be displayed.\n",
    "\n",
    "#The print('string') statement -> A string represents a group of characters. when a string is passed to the print function , thye string is displayed as it is.\n",
    "#Example print(\"olga\") -> olga #in case of string double quote & single quote have same meaning.\n",
    "\n",
    "#We can use escape sequence characters inside the print() function. '\\n' indicates new line & '\\t' represents the tab space.\n",
    "#example -> print(\"this is the \\nfirst line\") -> this is the\n",
    "                                                #first line\n",
    "#print(\"this is the \\tfirst line\")\n",
    "#This is the         first line\n",
    "\n",
    "#To escape the effect of escape sequence, we should add one more '\\' (backslash) before the escape sequence character. \n",
    "#For example, \\\\n displays '\\n' and \\\\t displays '\\t'.\n",
    "\n",
    "#print('this is the \\\\nfirst line') -> this is the \\n first line.\n",
    "#We can use repetition operator (*) to repeat the strings in the output as: \n",
    "#print(3*\"Hai\") -> HaiHaiHai \n",
    "\n",
    "#\"+\" will do addition operation on strings, it will join one string with another string.\n",
    "\n",
    "#print(\"city name=\"+\"Hyderabaad) -> City name = Hyderabaad\n",
    "#The operator '+' operator in the preceding statement joined the two strings without any space in between.\n",
    "#we can also write the preceding statement by separating the string using ',' as: \n",
    "#print(\"City name=\",\"Hyderabad\") -> City name= Hyderabad\n",
    "#In this case, a space is used by the print function() after each string. In the output, observe the single space after the string 'City name='. When the print() function sees a comma, it will assume that \n",
    "#the values are different and hence a space should be used between them for clarity.\n",
    "\n",
    "#The print(variable list) Statement -> We can also display the values of variables using the print() function. A list of variables can be supplied tio the print() funtion as:\n",
    "a, b = 2, 4\n",
    "print(a)\n",
    "print(a,b)\n",
    "\n",
    "#Observe that the values in the output are separated by a space by default.To separate the output with a comma, we shoul use 'sep' attribute as shown below, 'sep' represents seperator.\n",
    "print(a, b, sep=',')\n",
    "print(a, b, sep=':')\n",
    "print(a, b, sep='----')\n",
    "\n",
    "#when several print() funtions are used to display output, each print() function will display the output in a separate line as shown below:\n",
    "print('Hello')\n",
    "print('Dear')\n",
    "print('How are you')\n",
    "\n",
    "#If we want print() function not to throw the cursor into the next line but display the output in the same line then 'end' attribute should be used.\n",
    "\n",
    "print(\"Hello\", end='')\n",
    "print(\"Dear\", end='')\n",
    "print(\"How are u?\", end='')\n",
    "\n",
    "#If we use end='\\t' then the output will be displayed in the same line but tab space will separate them as:\n",
    "\n",
    "print(\"Hello\", end='\\t')\n",
    "print(\"Dear\", end='\\t')\n",
    "print(\"How are u?\", end='\\t')\n",
    "\n",
    "#If we use end='\\n' then the output is displayed in a separate line.So,'\\n' is the default value for 'end' attribute."
   ]
  },
  {
   "cell_type": "code",
   "execution_count": 1,
   "metadata": {},
   "outputs": [
    {
     "name": "stdout",
     "output_type": "stream",
     "text": [
      "[10, 'A', 'Hai']\n",
      "{'Idly': 30.0, 'Roti': 45.0, 'Chappati': 55.5}\n"
     ]
    },
    {
     "data": {
      "text/plain": [
       "{'Idly': 30.0, 'Roti': 45.0, 'Chappati': 55.55}"
      ]
     },
     "execution_count": 1,
     "metadata": {},
     "output_type": "execute_result"
    }
   ],
   "source": [
    "#The print(object) Statement -> We can pass objects like lists, tuples or dictionaries to the print() function to display the elements if those objects.\n",
    "#For Example:->\n",
    "lst = [10, 'A', 'Hai']\n",
    "print(lst)\n",
    "d = {'Idly':30.00, 'Roti':45.00, 'Chappati':55.50}\n",
    "print(d)\n",
    "{'Idly':30.0, 'Roti':45.0, 'Chappati':55.55}\n",
    "    "
   ]
  },
  {
   "cell_type": "code",
   "execution_count": 2,
   "metadata": {},
   "outputs": [
    {
     "name": "stdout",
     "output_type": "stream",
     "text": [
      "2 is even numnber\n",
      "you typed 2 as input\n"
     ]
    }
   ],
   "source": [
    "#The print('string', variable list) Statement -> The most common use of the print function() is to use strings along with variables inside the print() function.\n",
    "a = 2\n",
    "print(a, 'is even numnber')\n",
    "print('you typed', a, 'as input')"
   ]
  },
  {
   "cell_type": "code",
   "execution_count": 9,
   "metadata": {},
   "outputs": [
    {
     "name": "stdout",
     "output_type": "stream",
     "text": [
      "value= 10\n",
      "x= 10 y= 15\n",
      "Hai Linda\n",
      "Hai (               Linda)\n",
      "Hai (Linda               )\n",
      "Hai L, i\n",
      "Hai Li\n",
      "The value is: 123.456789\n",
      "The value is:   123.46\n",
      "The value is: 123.46\n",
      "number1=1\n",
      "number1=1, number2=1, number3=3\n",
      "number=2, number=1, number3=3\n",
      "number1=1, number2=2,number3=3\n"
     ]
    }
   ],
   "source": [
    "#The print(formatted string) Statement -> The output displayed by the print() function can be formatted as we like. \n",
    "#the special operator '%'(percent) can be used for this purpose.It joins a string with a variable or value in the following format:-\n",
    "#Print('formatted string' % (variable list))\n",
    "#In the \"formatted string\", we can use %i or %d to represent decimal integer numbers. we can use %f to represent float values.\n",
    "#Similarly, we can use %s to represent strings.see the example below:\n",
    "x = 10\n",
    "print('value= %i' % x)\n",
    "value = 10\n",
    "\n",
    "#As seen above , to display a single variable (i.e 'x'), we need not wrap it inside parenthesis.when more than one variable is to be displayed, then parentheses are needed as:\n",
    "x, y = 10, 15\n",
    "print('x= %i y= %d' %(x, y))\n",
    "#x = 10 y = 15\n",
    "\n",
    "#To display a string, we can use %s in the formatted string. when we use %20s, it will allot 20 spaces and the string is displayed right aligned in those spaces.\n",
    "#To align the string towards left side in the spaces, we can use %-20s. consider the following examples:\n",
    "\n",
    "name = 'Linda'\n",
    "print('Hai %s' %name)\n",
    "print('Hai (%20s)' %name)\n",
    "print('Hai (%-20s)' %name)\n",
    "\n",
    "#we can use %c to display a single chahracter as shown below:\n",
    "name='Linda'\n",
    "print('Hai %c, %c' % (name[0], name[1]))\n",
    "\n",
    "#The above example displayed 0th and 1st characters from name variable. we can use slicing operator on a string to display required characters from the string.\n",
    "#For example, name[0:2] gives 0th to 1st characters from name as:\n",
    "\n",
    "print('Hai %s' %(name[0:2]))\n",
    "\n",
    "#To display floating point values, we can use %f in the formatted string. If we use %8.2f, then the float value is displayed in 8 spaces and within these spaces, a decimal point and next 2 fraction digits.\n",
    "#When we use %.3f, then the float value is displayed with 3 fraction digits after the decimal point.\n",
    "#However, the digits before decimal point will be displayed as they are. Consider the following examples:\n",
    "\n",
    "num =  123.456789\n",
    "print('The value is: %f' % num)\n",
    "print('The value is: %8.2f' %num)\n",
    "print('The value is: %.2f' %num)\n",
    "\n",
    "#inside the formatted string, we can use replacement field which is denoted by a pair of curly braces{}. We can mention names or indexes in these replacement fields.\n",
    "#These names ir indexes represent the order of the values.After the formatted string,we should write member operator and then format() method where we should mention the values to be displayed.\n",
    "#Consider the general format given below:\n",
    "\n",
    "#print('format string with replacement fields'.format(values))\n",
    "\n",
    "#To display a single value using index in the replacement field, we can write as:\n",
    "\n",
    "n1, n2, n3 = 1, 2, 3\n",
    "print('number1={0}'.format(n1))\n",
    "\n",
    "#In the above statement, observe{0} which was replaced by the value of n1. To display the three numbers, we can use:\n",
    "\n",
    "print('number1={0}, number2={0}, number3={2}'.format(n1, n2, n3))\n",
    "\n",
    "#As an alternate, we can also use names in the replacement fields. But the values for these names should be provided in the format() method.\n",
    "#Consider the following example:\n",
    "print('number={two}, number={one}, number3={three}'.format(one=n1, two=n2, three=n3))\n",
    "\n",
    "#We can also use the curly braces without mentioning indexes or names.In this case, those braces will assume the sequence of values as they are given.\n",
    "#Consider the following statements:\n",
    "\n",
    "print('number1={}, number2={},number3={}'.format(n1, n2, n3))\n"
   ]
  },
  {
   "cell_type": "code",
   "execution_count": 3,
   "metadata": {},
   "outputs": [
    {
     "name": "stdout",
     "output_type": "stream",
     "text": [
      "one\n"
     ]
    }
   ],
   "source": [
    "#Chapter 6 Control Statements\n",
    "\n",
    "#When we write program , statements in the program are normally executed one by one. This type of execution is called sequential statement.\n",
    "#Control statements are the statements which control the flow of the statements.\n",
    "\n",
    "#If Statement -> is used to execute one or more satement depending on whether condition is True or Not.\n",
    "#if condition:\n",
    "     #Statements\n",
    "#we can write one or more statements after colon(:), if the condition is false, then the statements mentioned after colon are not executed.\n",
    "\n",
    "#A python program to express a digit in a word.\n",
    "\n",
    "num = 1\n",
    "if num == 1:\n",
    "    print(\"one\")\n",
    "    "
   ]
  },
  {
   "cell_type": "code",
   "execution_count": 4,
   "metadata": {},
   "outputs": [
    {
     "name": "stdout",
     "output_type": "stream",
     "text": [
      "yes\n",
      "This is what you said\n",
      "Your response is good\n"
     ]
    }
   ],
   "source": [
    "#A python program to display a group of messages when the condition is true.\n",
    "#Understanding if statement\n",
    "str = 'yes'\n",
    "if str == 'yes':\n",
    "    print('yes')\n",
    "    print('This is what you said')\n",
    "    print('Your response is good')\n",
    "    \n",
    "#observe that every print() function mentioned after colon is starting after 4 spaces only. when we write the statements with same indentation,\n",
    "#then those satements are considered as a suite (or belonging to the same group). In above program, the three print satements written after the colon form a suite.\n"
   ]
  },
  {
   "cell_type": "code",
   "execution_count": 5,
   "metadata": {},
   "outputs": [
    {
     "name": "stdout",
     "output_type": "stream",
     "text": [
      "enter the number to be checked6\n",
      "number is even\n"
     ]
    }
   ],
   "source": [
    "#The if else statement -> executes a group of statements when a condition is true otherwise it will execute another group of satemnets.\n",
    "#if condition:\n",
    "    #statements1\n",
    "#else:\n",
    "    #staements2\n",
    "    \n",
    "#A python program to test whether a number is even or odd.\n",
    "\n",
    "num = int(input(\"enter the number to be checked\"))\n",
    "if num%2 == 0:\n",
    "    print(\"number is even\")\n",
    "else:\n",
    "    print(\"number is odd\")"
   ]
  },
  {
   "cell_type": "code",
   "execution_count": 6,
   "metadata": {},
   "outputs": [
    {
     "name": "stdout",
     "output_type": "stream",
     "text": [
      "-5 is negative\n"
     ]
    }
   ],
   "source": [
    "#If else...elif....else Statement -> Sometimes the programmer has to test multiple conditions and execute statements depending on those conditions.\n",
    "#If...elif....else statement is useful in such situations.\n",
    "#Consider the following syntax of if...elif..else satement.\n",
    "#when condition 1 is True, the statements1 will be executed. if condition1 is False, then Condition2 is Evaluated. \n",
    "#When condition2 is True, the statements2 will be executed.When condition2 is false, the condition3 is tested.\n",
    "\n",
    "#A python program to know if a given number is zero, positive or negative.\n",
    "num = -5\n",
    "if num==0:\n",
    "    print(num, \"is zero\")\n",
    "elif num>0:\n",
    "    print(num, \"is positive\")\n",
    "else:\n",
    "    print(num,\"is negative\")\n",
    "    "
   ]
  },
  {
   "cell_type": "code",
   "execution_count": 7,
   "metadata": {},
   "outputs": [
    {
     "name": "stdout",
     "output_type": "stream",
     "text": [
      "enter a digit:4\n",
      "four\n"
     ]
    }
   ],
   "source": [
    "#A program to accept a numeric digit from keyboard and display in words.\n",
    "x = int(input(\"enter a digit:\"))\n",
    "if x==0: print(\"Zero\")\n",
    "elif x==1: print(\"one\")\n",
    "elif x==2: print(\"two\")\n",
    "elif x==3: print(\"three\")\n",
    "elif x==4: print(\"four\")\n",
    "elif x==5: print(\"five\")\n",
    "else: print(\"enter a digit between 0 and 5\")\n",
    "    "
   ]
  },
  {
   "cell_type": "code",
   "execution_count": 8,
   "metadata": {},
   "outputs": [
    {
     "name": "stdout",
     "output_type": "stream",
     "text": [
      "1\n",
      "2\n",
      "3\n",
      "4\n",
      "5\n",
      "6\n",
      "7\n",
      "8\n",
      "9\n",
      "10\n",
      "End\n"
     ]
    }
   ],
   "source": [
    "#While loop -> loop helps in repeating any statement. for example if statement is executed only once but for repeating it we need loop satements.\n",
    "\n",
    "#While condition:\n",
    "       #statements\n",
    "#Statements represents one statement or a suite of statements.\n",
    "\n",
    "#Write a program to display numbers from 1 to 10 using while loop.\n",
    "x = 1\n",
    "while x<=10:\n",
    "    print(x)\n",
    "    x+=1\n",
    "print('End')\n"
   ]
  },
  {
   "cell_type": "code",
   "execution_count": 9,
   "metadata": {},
   "outputs": [
    {
     "name": "stdout",
     "output_type": "stream",
     "text": [
      "100\n",
      "102\n",
      "104\n",
      "106\n",
      "108\n",
      "110\n",
      "112\n",
      "114\n",
      "116\n",
      "118\n",
      "120\n",
      "122\n",
      "124\n",
      "126\n",
      "128\n",
      "130\n",
      "132\n",
      "134\n",
      "136\n",
      "138\n",
      "140\n",
      "142\n",
      "144\n",
      "146\n",
      "148\n",
      "150\n",
      "152\n",
      "154\n",
      "156\n",
      "158\n",
      "160\n",
      "162\n",
      "164\n",
      "166\n",
      "168\n",
      "170\n",
      "172\n",
      "174\n",
      "176\n",
      "178\n",
      "180\n",
      "182\n",
      "184\n",
      "186\n",
      "188\n",
      "190\n",
      "192\n",
      "194\n",
      "196\n",
      "198\n",
      "200\n"
     ]
    }
   ],
   "source": [
    "#A python program to display even numbers between 100 and 200.\n",
    "x = 100\n",
    "while x>=100 and x<=200:\n",
    "    print(x)\n",
    "    x+=2\n"
   ]
  },
  {
   "cell_type": "code",
   "execution_count": 10,
   "metadata": {},
   "outputs": [
    {
     "name": "stdout",
     "output_type": "stream",
     "text": [
      "Enter minimum and maximum range:3,9\n",
      "4\n",
      "6\n",
      "8\n"
     ]
    }
   ],
   "source": [
    "#A python program to display even numbers between m and n.\n",
    "m , n = [int(i) for i in input(\"Enter minimum and maximum range:\").split(',')]\n",
    "x = m\n",
    "if x%2!=0:\n",
    "    x=x+1\n",
    "while x>=m and x<=n:\n",
    "    print(x)\n",
    "    x+=2"
   ]
  },
  {
   "cell_type": "code",
   "execution_count": 3,
   "metadata": {},
   "outputs": [
    {
     "name": "stdout",
     "output_type": "stream",
     "text": [
      "21\n"
     ]
    }
   ],
   "source": [
    "def find_sum(n):\n",
    "    if n==1:\n",
    "        return 1\n",
    "    return n + find_sum(n-1)\n",
    "if __name__=='__main__':\n",
    "    print(find_sum(6))"
   ]
  },
  {
   "cell_type": "code",
   "execution_count": null,
   "metadata": {},
   "outputs": [],
   "source": []
  }
 ],
 "metadata": {
  "kernelspec": {
   "display_name": "Python 3",
   "language": "python",
   "name": "python3"
  },
  "language_info": {
   "codemirror_mode": {
    "name": "ipython",
    "version": 3
   },
   "file_extension": ".py",
   "mimetype": "text/x-python",
   "name": "python",
   "nbconvert_exporter": "python",
   "pygments_lexer": "ipython3",
   "version": "3.8.5"
  }
 },
 "nbformat": 4,
 "nbformat_minor": 4
}
